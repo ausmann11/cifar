{
 "cells": [
  {
   "cell_type": "markdown",
   "metadata": {},
   "source": [
    "#  CIFAR 10 Project -PCA, Classification, and Model Selection\n",
    "(pronounced \"see far\")\n",
    "\n",
    "Let's Use your Code from Assignment 3 and the CIFAR10 data to do some compression and Classification\n",
    "\n",
    "1) First Use PCA (Scikit Learn or the by hand method we showed ) to compress the data down conserving 90% of the variance.  What are the dimensions of the old Data set vs the new?\n",
    "\n",
    "2) Next we are going to do some evaluation of different Scaling, Classifiers and hyper-parameters.  Pipeline may come in handy but there are other ways to do it. For each of these below I want a Training Test score and a 3-fold Cross-Validation score.\n",
    "\n",
    "* Scalers- Standard, just divide by max\n",
    "* Classifiers [MLPClassifier](http://scikit-learn.org/stable/modules/generated/sklearn.neural_network.MLPClassifier.html) and [SGDClassifier](http://scikit-learn.org/stable/modules/generated/sklearn.linear_model.SGDClassifier.html) So we are getting the same answers fix (max_iter=500,alpha=?????,random_state=42) let the rest of the options go to defaults.\n",
    "* hyper-parameters $\\alpha= .00001,.00003,.00005,.00007$\n",
    "\n",
    "\n",
    "A few warnings and suggestions. One run for one scaling and both classifiers at $\\alpha=.00005$ took 14 minutes and I have a pretty decent machine. So:\n",
    "\n",
    "* You may want to divide this up so you are not re-loading the data and preforming PCA every time.  Careful if you self reference like X_red=(X_red)/np.max(X_red).\n",
    "\n",
    "* Probably should get it running for one alpha first and one scaling.  I think .00001 trains the fastest for me but you may want to try something even smaller.\n",
    "\n",
    "You can still do this in a Jupyter notebook.  In the end I would like your code and a separate  professionally written write up  that addresses the following.\n",
    "\n",
    "Summarize your results in a table (or data frame)\n",
    "\n",
    "\n",
    "1) What is the best combination of scaling, classifier and hyper-parameter  by cross validation average score?\n",
    "\n",
    "2) Are you observing anything as $\\alpha$ increases? \n",
    "\n",
    "3) What are some ways you might increase your accuracy?  What price might you pay?\n",
    "\n",
    "**FYI:** My accuracy results were roughly between .25 and.80 for all cross validations and training scores.  This seems low but better than random guessing.\n",
    "\n",
    "**Challenge problem.**  Compute Confusion matrix for the best combination model above and see what gets misclassified the most and as what. "
   ]
  },
  {
   "cell_type": "markdown",
   "metadata": {},
   "source": [
    "**Reading in and formatting CIFAR**"
   ]
  },
  {
   "cell_type": "code",
   "execution_count": 1,
   "metadata": {
    "ExecuteTime": {
     "end_time": "2019-11-11T17:50:35.483906Z",
     "start_time": "2019-11-11T17:50:26.565295Z"
    }
   },
   "outputs": [],
   "source": [
    "%run packages.py\n",
    "%matplotlib inline"
   ]
  },
  {
   "cell_type": "code",
   "execution_count": 2,
   "metadata": {
    "ExecuteTime": {
     "end_time": "2019-11-11T17:50:35.513775Z",
     "start_time": "2019-11-11T17:50:35.509687Z"
    }
   },
   "outputs": [],
   "source": [
    "import warnings\n",
    "warnings.filterwarnings('ignore')"
   ]
  },
  {
   "cell_type": "code",
   "execution_count": 3,
   "metadata": {
    "ExecuteTime": {
     "end_time": "2019-11-11T17:50:35.696477Z",
     "start_time": "2019-11-11T17:50:35.538764Z"
    }
   },
   "outputs": [],
   "source": [
    "from sklearn.decomposition import PCA\n",
    "from sklearn.preprocessing import StandardScaler\n",
    "from sklearn.neural_network import MLPClassifier\n",
    "from sklearn.model_selection import cross_val_score\n",
    "from sklearn.linear_model import SGDClassifier\n",
    "from sklearn.model_selection import cross_val_predict\n",
    "from sklearn.metrics import confusion_matrix"
   ]
  },
  {
   "cell_type": "code",
   "execution_count": 4,
   "metadata": {
    "ExecuteTime": {
     "end_time": "2019-11-11T17:50:35.789104Z",
     "start_time": "2019-11-11T17:50:35.717399Z"
    }
   },
   "outputs": [],
   "source": [
    "import os\n",
    "cd= \"C://Users//sam2146//Documents//DSC 521//Assignments//cifar-10-batches-py\"\n",
    "os.chdir(cd)\n",
    "os.getcwd()\n",
    "from six.moves import cPickle\n",
    "def unpickle(file):\n",
    "    import pickle\n",
    "    with open(file, 'rb') as fo:\n",
    "        dict = cPickle.load(fo, encoding='latin-1')\n",
    "    return dict\n"
   ]
  },
  {
   "cell_type": "code",
   "execution_count": 5,
   "metadata": {
    "ExecuteTime": {
     "end_time": "2019-11-11T17:50:36.410306Z",
     "start_time": "2019-11-11T17:50:35.812182Z"
    }
   },
   "outputs": [],
   "source": [
    "data_batch_1= unpickle('data_batch_1')\n",
    "data_batch_2= unpickle('data_batch_2')\n",
    "data_batch_3= unpickle('data_batch_3')\n",
    "data_batch_4= unpickle('data_batch_4')\n",
    "data_batch_5= unpickle('data_batch_5')\n",
    "test_batch= unpickle('test_batch')"
   ]
  },
  {
   "cell_type": "code",
   "execution_count": 27,
   "metadata": {
    "ExecuteTime": {
     "end_time": "2019-11-11T18:13:49.608364Z",
     "start_time": "2019-11-11T18:13:49.601764Z"
    }
   },
   "outputs": [
    {
     "data": {
      "text/plain": [
       "numpy.ndarray"
      ]
     },
     "execution_count": 27,
     "metadata": {},
     "output_type": "execute_result"
    }
   ],
   "source": [
    "type(data_batch_1['data'])"
   ]
  },
  {
   "cell_type": "code",
   "execution_count": 15,
   "metadata": {
    "ExecuteTime": {
     "end_time": "2019-11-11T18:08:26.903537Z",
     "start_time": "2019-11-11T18:08:26.880872Z"
    }
   },
   "outputs": [],
   "source": [
    "x1=data_batch_1['data']\n",
    "x2=data_batch_2['data']\n",
    "x3=data_batch_3['data']\n",
    "x4=data_batch_4['data']\n",
    "x5=data_batch_5['data']\n",
    "X_test=test_batch['data']\n",
    "y1=pd.DataFrame(data_batch_1['labels']).values\n",
    "y2=pd.DataFrame(data_batch_2['labels']).values\n",
    "y3=pd.DataFrame(data_batch_3['labels']).values\n",
    "y4=pd.DataFrame(data_batch_4['labels']).values\n",
    "y5=pd.DataFrame(data_batch_5['labels']).values\n",
    "y_test=pd.DataFrame(test_batch['labels']).values"
   ]
  },
  {
   "cell_type": "code",
   "execution_count": 16,
   "metadata": {
    "ExecuteTime": {
     "end_time": "2019-11-11T18:08:28.189864Z",
     "start_time": "2019-11-11T18:08:28.132152Z"
    }
   },
   "outputs": [],
   "source": [
    "X_train=np.concatenate((x1,x2,x3,x4,x5),axis=0)\n",
    "y_train=np.concatenate((y1,y2,y3,y4,y5),axis=0)"
   ]
  },
  {
   "cell_type": "code",
   "execution_count": 31,
   "metadata": {
    "ExecuteTime": {
     "end_time": "2019-11-11T18:17:51.246215Z",
     "start_time": "2019-11-11T18:17:51.231884Z"
    }
   },
   "outputs": [
    {
     "data": {
      "text/plain": [
       "(3072,)"
      ]
     },
     "execution_count": 31,
     "metadata": {},
     "output_type": "execute_result"
    }
   ],
   "source": [
    "X_train[0].shape"
   ]
  },
  {
   "cell_type": "code",
   "execution_count": 11,
   "metadata": {
    "ExecuteTime": {
     "end_time": "2019-03-04T17:07:26.406637Z",
     "start_time": "2019-03-04T17:07:26.398616Z"
    }
   },
   "outputs": [],
   "source": [
    "y_train=y_train.ravel()\n",
    "y_test=y_test.ravel()"
   ]
  },
  {
   "cell_type": "code",
   "execution_count": 12,
   "metadata": {
    "ExecuteTime": {
     "end_time": "2019-03-04T17:07:27.340553Z",
     "start_time": "2019-03-04T17:07:27.329727Z"
    }
   },
   "outputs": [
    {
     "name": "stdout",
     "output_type": "stream",
     "text": [
      "(50000, 3072)\n",
      "(50000,)\n",
      "(10000, 3072)\n",
      "(10000,)\n"
     ]
    }
   ],
   "source": [
    "print(X_train.shape)\n",
    "print(y_train.shape)\n",
    "\n",
    "print(X_test.shape)\n",
    "print(y_test.shape)"
   ]
  },
  {
   "cell_type": "markdown",
   "metadata": {},
   "source": [
    "**PCA Compression**"
   ]
  },
  {
   "cell_type": "code",
   "execution_count": 13,
   "metadata": {
    "ExecuteTime": {
     "end_time": "2019-03-04T17:09:43.950249Z",
     "start_time": "2019-03-04T17:07:36.822410Z"
    }
   },
   "outputs": [
    {
     "data": {
      "text/plain": [
       "99"
      ]
     },
     "execution_count": 13,
     "metadata": {},
     "output_type": "execute_result"
    }
   ],
   "source": [
    "pca=PCA()\n",
    "pca.fit(X_train)\n",
    "csum=np.cumsum(pca.explained_variance_ratio_)\n",
    "d=np.argmax(csum>=.90)+1\n",
    "d"
   ]
  },
  {
   "cell_type": "code",
   "execution_count": 14,
   "metadata": {
    "ExecuteTime": {
     "end_time": "2019-03-04T17:10:41.956957Z",
     "start_time": "2019-03-04T17:10:22.432133Z"
    }
   },
   "outputs": [
    {
     "data": {
      "text/plain": [
       "((50000, 3072), (50000, 99))"
      ]
     },
     "execution_count": 14,
     "metadata": {},
     "output_type": "execute_result"
    }
   ],
   "source": [
    "pca=PCA(n_components=d)\n",
    "X_train_reduced=pca.fit_transform(X_train)\n",
    "X_train.shape, X_train_reduced.shape"
   ]
  },
  {
   "cell_type": "code",
   "execution_count": 15,
   "metadata": {
    "ExecuteTime": {
     "end_time": "2019-03-04T17:11:34.811041Z",
     "start_time": "2019-03-04T17:10:51.173788Z"
    }
   },
   "outputs": [
    {
     "data": {
      "text/plain": [
       "97"
      ]
     },
     "execution_count": 15,
     "metadata": {},
     "output_type": "execute_result"
    }
   ],
   "source": [
    "pca=PCA()\n",
    "pca.fit(X_test)\n",
    "csum=np.cumsum(pca.explained_variance_ratio_)\n",
    "d=np.argmax(csum>=.90)+1\n",
    "d"
   ]
  },
  {
   "cell_type": "code",
   "execution_count": 16,
   "metadata": {
    "ExecuteTime": {
     "end_time": "2019-03-04T17:11:59.760043Z",
     "start_time": "2019-03-04T17:11:55.208265Z"
    }
   },
   "outputs": [
    {
     "data": {
      "text/plain": [
       "((10000, 3072), (10000, 97))"
      ]
     },
     "execution_count": 16,
     "metadata": {},
     "output_type": "execute_result"
    }
   ],
   "source": [
    "pca=PCA(n_components=d)\n",
    "X_test_reduced=pca.transform(X_test)\n",
    "X_test.shape, X_test_reduced.shape"
   ]
  },
  {
   "cell_type": "markdown",
   "metadata": {},
   "source": [
    "**Standard Scale**"
   ]
  },
  {
   "cell_type": "code",
   "execution_count": 17,
   "metadata": {
    "ExecuteTime": {
     "end_time": "2019-03-04T17:12:01.985892Z",
     "start_time": "2019-03-04T17:12:01.683935Z"
    }
   },
   "outputs": [],
   "source": [
    "sc=StandardScaler()\n",
    "X_train_red_ss=sc.fit_transform(X_train_reduced)\n",
    "X_test_red_ss=sc.fit_transform(X_test_reduced)"
   ]
  },
  {
   "cell_type": "markdown",
   "metadata": {},
   "source": [
    "**Divide by Max**"
   ]
  },
  {
   "cell_type": "code",
   "execution_count": 18,
   "metadata": {
    "ExecuteTime": {
     "end_time": "2019-03-04T17:12:04.245725Z",
     "start_time": "2019-03-04T17:12:04.175453Z"
    }
   },
   "outputs": [],
   "source": [
    "X_train_red_max=X_train_reduced/np.max(X_train_reduced)\n",
    "X_test_red_max=X_test_reduced/np.max(X_test_reduced)"
   ]
  },
  {
   "cell_type": "markdown",
   "metadata": {},
   "source": [
    "**MLP Classifier and cross validation with standard scaler**"
   ]
  },
  {
   "cell_type": "markdown",
   "metadata": {},
   "source": [
    "Alpha=.00001"
   ]
  },
  {
   "cell_type": "code",
   "execution_count": 41,
   "metadata": {
    "ExecuteTime": {
     "end_time": "2019-02-27T23:42:27.535473Z",
     "start_time": "2019-02-27T23:40:48.759486Z"
    }
   },
   "outputs": [
    {
     "data": {
      "text/plain": [
       "0.65634"
      ]
     },
     "execution_count": 41,
     "metadata": {},
     "output_type": "execute_result"
    }
   ],
   "source": [
    "mlp=MLPClassifier(max_iter=500, alpha=.00001 ,random_state=42)\n",
    "mlp.fit(X_train_red_ss,y_train)\n",
    "mlp.score(X_train_red_ss,y_train)"
   ]
  },
  {
   "cell_type": "code",
   "execution_count": 42,
   "metadata": {
    "ExecuteTime": {
     "end_time": "2019-02-27T23:47:11.954451Z",
     "start_time": "2019-02-27T23:42:29.472232Z"
    }
   },
   "outputs": [
    {
     "name": "stdout",
     "output_type": "stream",
     "text": [
      "scores [0.48296341 0.48284343 0.48307323]\n",
      "Accuracy: 0.48 (+/- 0.00)\n"
     ]
    }
   ],
   "source": [
    "scores=cross_val_score(mlp, X_train_red_ss, y_train, cv=3, scoring=\"accuracy\")\n",
    "print(\"scores\", scores)\n",
    "print(\"Accuracy: %0.2f (+/- %0.2f)\" % (scores.mean(), scores.std() * 2))"
   ]
  },
  {
   "cell_type": "markdown",
   "metadata": {},
   "source": [
    "Alpha=.00003"
   ]
  },
  {
   "cell_type": "code",
   "execution_count": 21,
   "metadata": {
    "ExecuteTime": {
     "end_time": "2019-02-27T21:02:18.362947Z",
     "start_time": "2019-02-27T21:00:11.515273Z"
    }
   },
   "outputs": [
    {
     "data": {
      "text/plain": [
       "0.65828"
      ]
     },
     "execution_count": 21,
     "metadata": {},
     "output_type": "execute_result"
    }
   ],
   "source": [
    "mlp=MLPClassifier(max_iter=500, alpha=.00003 ,random_state=42)\n",
    "mlp.fit(X_train_red_ss,y_train)\n",
    "mlp.score(X_train_red_ss,y_train)"
   ]
  },
  {
   "cell_type": "code",
   "execution_count": 22,
   "metadata": {
    "ExecuteTime": {
     "end_time": "2019-02-27T21:06:36.144139Z",
     "start_time": "2019-02-27T21:02:18.409826Z"
    }
   },
   "outputs": [
    {
     "name": "stdout",
     "output_type": "stream",
     "text": [
      "scores [0.47582484 0.48080384 0.48541417]\n",
      "Accuracy: 0.48 (+/- 0.01)\n"
     ]
    }
   ],
   "source": [
    "scores=cross_val_score(mlp, X_train_red_ss, y_train, cv=3, scoring=\"accuracy\")\n",
    "print(\"scores\", scores)\n",
    "print(\"Accuracy: %0.2f (+/- %0.2f)\" % (scores.mean(), scores.std() * 2))"
   ]
  },
  {
   "cell_type": "markdown",
   "metadata": {},
   "source": [
    "Alpha=.00005"
   ]
  },
  {
   "cell_type": "code",
   "execution_count": 23,
   "metadata": {
    "ExecuteTime": {
     "end_time": "2019-02-27T21:11:29.715117Z",
     "start_time": "2019-02-27T21:09:31.624888Z"
    }
   },
   "outputs": [
    {
     "data": {
      "text/plain": [
       "0.65954"
      ]
     },
     "execution_count": 23,
     "metadata": {},
     "output_type": "execute_result"
    }
   ],
   "source": [
    "mlp=MLPClassifier(max_iter=500, alpha=.00005 ,random_state=42)\n",
    "mlp.fit(X_train_red_ss,y_train)\n",
    "mlp.score(X_train_red_ss,y_train)"
   ]
  },
  {
   "cell_type": "code",
   "execution_count": 24,
   "metadata": {
    "ExecuteTime": {
     "end_time": "2019-02-27T21:15:58.616404Z",
     "start_time": "2019-02-27T21:11:29.761997Z"
    }
   },
   "outputs": [
    {
     "name": "stdout",
     "output_type": "stream",
     "text": [
      "scores [0.47912418 0.48008398 0.48547419]\n",
      "Accuracy: 0.48 (+/- 0.01)\n"
     ]
    }
   ],
   "source": [
    "scores=cross_val_score(mlp, X_train_red_ss, y_train, cv=3, scoring=\"accuracy\")\n",
    "print(\"scores\", scores)\n",
    "print(\"Accuracy: %0.2f (+/- %0.2f)\" % (scores.mean(), scores.std() * 2))"
   ]
  },
  {
   "cell_type": "markdown",
   "metadata": {},
   "source": [
    "Alpha=.00007"
   ]
  },
  {
   "cell_type": "code",
   "execution_count": 27,
   "metadata": {
    "ExecuteTime": {
     "end_time": "2019-02-27T21:22:28.583954Z",
     "start_time": "2019-02-27T21:20:44.384278Z"
    }
   },
   "outputs": [
    {
     "data": {
      "text/plain": [
       "0.65632"
      ]
     },
     "execution_count": 27,
     "metadata": {},
     "output_type": "execute_result"
    }
   ],
   "source": [
    "mlp=MLPClassifier(max_iter=500, alpha=.00007 ,random_state=42)\n",
    "mlp.fit(X_train_red_ss,y_train)\n",
    "mlp.score(X_train_red_ss,y_train)"
   ]
  },
  {
   "cell_type": "code",
   "execution_count": 28,
   "metadata": {
    "ExecuteTime": {
     "end_time": "2019-02-27T21:26:47.835984Z",
     "start_time": "2019-02-27T21:22:28.630834Z"
    }
   },
   "outputs": [
    {
     "name": "stdout",
     "output_type": "stream",
     "text": [
      "scores [0.48104379 0.48326335 0.48619448]\n",
      "Accuracy: 0.48 (+/- 0.00)\n"
     ]
    }
   ],
   "source": [
    "scores=cross_val_score(mlp, X_train_red_ss, y_train, cv=3, scoring=\"accuracy\")\n",
    "print(\"scores\", scores)\n",
    "print(\"Accuracy: %0.2f (+/- %0.2f)\" % (scores.mean(), scores.std() * 2))"
   ]
  },
  {
   "cell_type": "markdown",
   "metadata": {},
   "source": [
    "**MLP Classifier and cross validation with max scaler**"
   ]
  },
  {
   "cell_type": "markdown",
   "metadata": {
    "ExecuteTime": {
     "end_time": "2019-02-27T20:23:27.844897Z",
     "start_time": "2019-02-27T20:23:27.817626Z"
    }
   },
   "source": [
    "Alpha=.00001"
   ]
  },
  {
   "cell_type": "code",
   "execution_count": 31,
   "metadata": {
    "ExecuteTime": {
     "end_time": "2019-03-04T14:10:32.597086Z",
     "start_time": "2019-03-04T14:06:23.494594Z"
    },
    "scrolled": true
   },
   "outputs": [
    {
     "data": {
      "text/plain": [
       "0.6424"
      ]
     },
     "execution_count": 31,
     "metadata": {},
     "output_type": "execute_result"
    }
   ],
   "source": [
    "mlp=MLPClassifier(max_iter=500, alpha=.00001 ,random_state=42)\n",
    "mlp.fit(X_train_red_max,y_train)\n",
    "mlp.score(X_train_red_max,y_train)"
   ]
  },
  {
   "cell_type": "code",
   "execution_count": 32,
   "metadata": {
    "ExecuteTime": {
     "end_time": "2019-03-04T14:18:51.358040Z",
     "start_time": "2019-03-04T14:10:37.355007Z"
    },
    "scrolled": true
   },
   "outputs": [
    {
     "name": "stdout",
     "output_type": "stream",
     "text": [
      "scores [0.50659868 0.50431914 0.51410564]\n",
      "Accuracy: 0.51 (+/- 0.01)\n"
     ]
    }
   ],
   "source": [
    "scores=cross_val_score(mlp, X_train_red_max, y_train, cv=3, scoring=\"accuracy\")\n",
    "print(\"scores\", scores)\n",
    "print(\"Accuracy: %0.2f (+/- %0.2f)\" % (scores.mean(), scores.std() * 2))"
   ]
  },
  {
   "cell_type": "markdown",
   "metadata": {},
   "source": [
    "Alpha=.00003"
   ]
  },
  {
   "cell_type": "code",
   "execution_count": 33,
   "metadata": {
    "ExecuteTime": {
     "end_time": "2019-03-04T14:23:37.782394Z",
     "start_time": "2019-03-04T14:19:36.797607Z"
    },
    "scrolled": true
   },
   "outputs": [
    {
     "data": {
      "text/plain": [
       "0.6462"
      ]
     },
     "execution_count": 33,
     "metadata": {},
     "output_type": "execute_result"
    }
   ],
   "source": [
    "mlp=MLPClassifier(max_iter=500, alpha=.00003 ,random_state=42)\n",
    "mlp.fit(X_train_red_max,y_train)\n",
    "mlp.score(X_train_red_max,y_train)"
   ]
  },
  {
   "cell_type": "code",
   "execution_count": 34,
   "metadata": {
    "ExecuteTime": {
     "end_time": "2019-03-04T14:31:58.009484Z",
     "start_time": "2019-03-04T14:23:37.819734Z"
    }
   },
   "outputs": [
    {
     "name": "stdout",
     "output_type": "stream",
     "text": [
      "scores [0.50563887 0.51037792 0.5120048 ]\n",
      "Accuracy: 0.51 (+/- 0.01)\n"
     ]
    }
   ],
   "source": [
    "scores=cross_val_score(mlp, X_train_red_max, y_train, cv=3, scoring=\"accuracy\")\n",
    "print(\"scores\", scores)\n",
    "print(\"Accuracy: %0.2f (+/- %0.2f)\" % (scores.mean(), scores.std() * 2))"
   ]
  },
  {
   "cell_type": "markdown",
   "metadata": {},
   "source": [
    "Alpha=.00005"
   ]
  },
  {
   "cell_type": "code",
   "execution_count": 35,
   "metadata": {
    "ExecuteTime": {
     "end_time": "2019-03-04T14:37:32.235200Z",
     "start_time": "2019-03-04T14:33:37.140795Z"
    }
   },
   "outputs": [
    {
     "data": {
      "text/plain": [
       "0.64382"
      ]
     },
     "execution_count": 35,
     "metadata": {},
     "output_type": "execute_result"
    }
   ],
   "source": [
    "mlp=MLPClassifier(max_iter=500, alpha=.00005 ,random_state=42)\n",
    "mlp.fit(X_train_red_max,y_train)\n",
    "mlp.score(X_train_red_max,y_train)"
   ]
  },
  {
   "cell_type": "code",
   "execution_count": 36,
   "metadata": {
    "ExecuteTime": {
     "end_time": "2019-03-04T14:46:08.654571Z",
     "start_time": "2019-03-04T14:37:32.274629Z"
    }
   },
   "outputs": [
    {
     "name": "stdout",
     "output_type": "stream",
     "text": [
      "scores [0.5079784  0.50869826 0.50876351]\n",
      "Accuracy: 0.51 (+/- 0.00)\n"
     ]
    }
   ],
   "source": [
    "scores=cross_val_score(mlp, X_train_red_max, y_train, cv=3, scoring=\"accuracy\")\n",
    "print(\"scores\", scores)\n",
    "print(\"Accuracy: %0.2f (+/- %0.2f)\" % (scores.mean(), scores.std() * 2))"
   ]
  },
  {
   "cell_type": "markdown",
   "metadata": {},
   "source": [
    "Alpha=.00007"
   ]
  },
  {
   "cell_type": "code",
   "execution_count": 37,
   "metadata": {
    "ExecuteTime": {
     "end_time": "2019-03-04T14:50:08.895404Z",
     "start_time": "2019-03-04T14:46:28.887611Z"
    }
   },
   "outputs": [
    {
     "name": "stdout",
     "output_type": "stream",
     "text": [
      "0.6425\n"
     ]
    }
   ],
   "source": [
    "mlp=MLPClassifier(max_iter=500, alpha=.00007 ,random_state=42)\n",
    "mlp.fit(X_train_red_max,y_train)\n",
    "print(mlp.score(X_train_red_max,y_train))"
   ]
  },
  {
   "cell_type": "code",
   "execution_count": 38,
   "metadata": {
    "ExecuteTime": {
     "end_time": "2019-03-04T14:56:25.240106Z",
     "start_time": "2019-03-04T14:50:08.942285Z"
    }
   },
   "outputs": [
    {
     "name": "stdout",
     "output_type": "stream",
     "text": [
      "scores [0.50773845 0.50929814 0.51110444]\n",
      "Accuracy: 0.51 (+/- 0.00)\n"
     ]
    }
   ],
   "source": [
    "scores=cross_val_score(mlp, X_train_red_max, y_train, cv=3, scoring=\"accuracy\")\n",
    "print(\"scores\", scores)\n",
    "print(\"Accuracy: %0.2f (+/- %0.2f)\" % (scores.mean(), scores.std() * 2))"
   ]
  },
  {
   "cell_type": "markdown",
   "metadata": {},
   "source": [
    "**SGD Classifier and cross validation with standard scaler**"
   ]
  },
  {
   "cell_type": "markdown",
   "metadata": {},
   "source": [
    "Alpha=.00001"
   ]
  },
  {
   "cell_type": "code",
   "execution_count": 19,
   "metadata": {
    "ExecuteTime": {
     "end_time": "2019-03-04T17:14:13.793313Z",
     "start_time": "2019-03-04T17:12:15.740472Z"
    }
   },
   "outputs": [
    {
     "data": {
      "text/plain": [
       "0.31098"
      ]
     },
     "execution_count": 19,
     "metadata": {},
     "output_type": "execute_result"
    }
   ],
   "source": [
    "sgd=SGDClassifier(max_iter=500,alpha=.0001, random_state=42)\n",
    "sgd.fit(X_train_red_ss,y_train)\n",
    "sgd.score(X_train_red_ss,y_train)"
   ]
  },
  {
   "cell_type": "code",
   "execution_count": 20,
   "metadata": {
    "ExecuteTime": {
     "end_time": "2019-03-04T17:19:04.539799Z",
     "start_time": "2019-03-04T17:15:13.965634Z"
    }
   },
   "outputs": [
    {
     "name": "stdout",
     "output_type": "stream",
     "text": [
      "scores [0.31373725 0.30455909 0.30552221]\n",
      "Accuracy: 0.31 (+/- 0.01)\n"
     ]
    }
   ],
   "source": [
    "scores=cross_val_score(sgd, X_train_red_ss, y_train, cv=3, scoring=\"accuracy\")\n",
    "print(\"scores\", scores)\n",
    "print(\"Accuracy: %0.2f (+/- %0.2f)\" % (scores.mean(), scores.std() * 2))"
   ]
  },
  {
   "cell_type": "markdown",
   "metadata": {},
   "source": [
    "Alpha=.00003"
   ]
  },
  {
   "cell_type": "code",
   "execution_count": 21,
   "metadata": {
    "ExecuteTime": {
     "end_time": "2019-03-04T17:21:27.175934Z",
     "start_time": "2019-03-04T17:19:28.225840Z"
    }
   },
   "outputs": [
    {
     "data": {
      "text/plain": [
       "0.3108"
      ]
     },
     "execution_count": 21,
     "metadata": {},
     "output_type": "execute_result"
    }
   ],
   "source": [
    "sgd=SGDClassifier(max_iter=500,alpha=.0003, random_state=42)\n",
    "sgd.fit(X_train_red_ss,y_train)\n",
    "sgd.score(X_train_red_ss,y_train)"
   ]
  },
  {
   "cell_type": "code",
   "execution_count": 22,
   "metadata": {
    "ExecuteTime": {
     "end_time": "2019-03-04T17:25:09.609520Z",
     "start_time": "2019-03-04T17:21:27.308234Z"
    }
   },
   "outputs": [
    {
     "name": "stdout",
     "output_type": "stream",
     "text": [
      "scores [0.31145771 0.3085183  0.3027611 ]\n",
      "Accuracy: 0.31 (+/- 0.01)\n"
     ]
    }
   ],
   "source": [
    "scores=cross_val_score(sgd, X_train_red_ss, y_train, cv=3, scoring=\"accuracy\")\n",
    "print(\"scores\", scores)\n",
    "print(\"Accuracy: %0.2f (+/- %0.2f)\" % (scores.mean(), scores.std() * 2))"
   ]
  },
  {
   "cell_type": "markdown",
   "metadata": {},
   "source": [
    "Alpha=.00005"
   ]
  },
  {
   "cell_type": "code",
   "execution_count": 23,
   "metadata": {
    "ExecuteTime": {
     "end_time": "2019-03-04T17:27:39.683429Z",
     "start_time": "2019-03-04T17:25:44.628768Z"
    }
   },
   "outputs": [
    {
     "data": {
      "text/plain": [
       "0.3141"
      ]
     },
     "execution_count": 23,
     "metadata": {},
     "output_type": "execute_result"
    }
   ],
   "source": [
    "sgd=SGDClassifier(max_iter=500,alpha=.0005, random_state=42)\n",
    "sgd.fit(X_train_red_ss,y_train)\n",
    "sgd.score(X_train_red_ss,y_train)"
   ]
  },
  {
   "cell_type": "code",
   "execution_count": 24,
   "metadata": {
    "ExecuteTime": {
     "end_time": "2019-03-04T17:31:24.696196Z",
     "start_time": "2019-03-04T17:27:39.842034Z"
    }
   },
   "outputs": [
    {
     "name": "stdout",
     "output_type": "stream",
     "text": [
      "scores [0.31673665 0.3109778  0.30408163]\n",
      "Accuracy: 0.31 (+/- 0.01)\n"
     ]
    }
   ],
   "source": [
    "scores=cross_val_score(sgd, X_train_red_ss, y_train, cv=3, scoring=\"accuracy\")\n",
    "print(\"scores\", scores)\n",
    "print(\"Accuracy: %0.2f (+/- %0.2f)\" % (scores.mean(), scores.std() * 2))"
   ]
  },
  {
   "cell_type": "markdown",
   "metadata": {},
   "source": [
    "Alpha=.00007"
   ]
  },
  {
   "cell_type": "code",
   "execution_count": 25,
   "metadata": {
    "ExecuteTime": {
     "end_time": "2019-03-04T17:34:22.725771Z",
     "start_time": "2019-03-04T17:32:26.551281Z"
    }
   },
   "outputs": [
    {
     "data": {
      "text/plain": [
       "0.3142"
      ]
     },
     "execution_count": 25,
     "metadata": {},
     "output_type": "execute_result"
    }
   ],
   "source": [
    "sgd=SGDClassifier(max_iter=500,alpha=.0007, random_state=42)\n",
    "sgd.fit(X_train_red_ss,y_train)\n",
    "sgd.score(X_train_red_ss,y_train)"
   ]
  },
  {
   "cell_type": "code",
   "execution_count": 26,
   "metadata": {
    "ExecuteTime": {
     "end_time": "2019-03-04T17:38:16.401316Z",
     "start_time": "2019-03-04T17:34:22.852909Z"
    }
   },
   "outputs": [
    {
     "name": "stdout",
     "output_type": "stream",
     "text": [
      "scores [0.31073785 0.30977804 0.31062425]\n",
      "Accuracy: 0.31 (+/- 0.00)\n"
     ]
    }
   ],
   "source": [
    "scores=cross_val_score(sgd, X_train_red_ss, y_train, cv=3, scoring=\"accuracy\")\n",
    "print(\"scores\", scores)\n",
    "print(\"Accuracy: %0.2f (+/- %0.2f)\" % (scores.mean(), scores.std() * 2))"
   ]
  },
  {
   "cell_type": "markdown",
   "metadata": {},
   "source": [
    "**SGD Classifier and cross validation with max scaler**"
   ]
  },
  {
   "cell_type": "markdown",
   "metadata": {},
   "source": [
    "Alpha=.00001"
   ]
  },
  {
   "cell_type": "code",
   "execution_count": 27,
   "metadata": {
    "ExecuteTime": {
     "end_time": "2019-03-04T17:40:57.156015Z",
     "start_time": "2019-03-04T17:39:03.438644Z"
    }
   },
   "outputs": [
    {
     "data": {
      "text/plain": [
       "0.32566"
      ]
     },
     "execution_count": 27,
     "metadata": {},
     "output_type": "execute_result"
    }
   ],
   "source": [
    "sgd=SGDClassifier(max_iter=500,alpha=.0001, random_state=42)\n",
    "sgd.fit(X_train_red_max,y_train)\n",
    "sgd.score(X_train_red_max,y_train)"
   ]
  },
  {
   "cell_type": "code",
   "execution_count": 28,
   "metadata": {
    "ExecuteTime": {
     "end_time": "2019-03-04T17:44:48.713841Z",
     "start_time": "2019-03-04T17:40:57.267821Z"
    }
   },
   "outputs": [
    {
     "name": "stdout",
     "output_type": "stream",
     "text": [
      "scores [0.27138572 0.28668266 0.30330132]\n",
      "Accuracy: 0.29 (+/- 0.03)\n"
     ]
    }
   ],
   "source": [
    "scores=cross_val_score(sgd, X_train_red_max, y_train, cv=3, scoring=\"accuracy\")\n",
    "print(\"scores\", scores)\n",
    "print(\"Accuracy: %0.2f (+/- %0.2f)\" % (scores.mean(), scores.std() * 2))"
   ]
  },
  {
   "cell_type": "markdown",
   "metadata": {},
   "source": [
    "Alpha=.00003"
   ]
  },
  {
   "cell_type": "code",
   "execution_count": 29,
   "metadata": {
    "ExecuteTime": {
     "end_time": "2019-03-04T17:47:05.789696Z",
     "start_time": "2019-03-04T17:45:07.618212Z"
    }
   },
   "outputs": [
    {
     "data": {
      "text/plain": [
       "0.30414"
      ]
     },
     "execution_count": 29,
     "metadata": {},
     "output_type": "execute_result"
    }
   ],
   "source": [
    "sgd=SGDClassifier(max_iter=500,alpha=.0003, random_state=42)\n",
    "sgd.fit(X_train_red_max,y_train)\n",
    "sgd.score(X_train_red_max,y_train)"
   ]
  },
  {
   "cell_type": "code",
   "execution_count": 30,
   "metadata": {
    "ExecuteTime": {
     "end_time": "2019-03-04T17:50:53.122983Z",
     "start_time": "2019-03-04T17:47:05.956582Z"
    }
   },
   "outputs": [
    {
     "name": "stdout",
     "output_type": "stream",
     "text": [
      "scores [0.26190762 0.28680264 0.29813926]\n",
      "Accuracy: 0.28 (+/- 0.03)\n"
     ]
    }
   ],
   "source": [
    "scores=cross_val_score(sgd, X_train_red_max, y_train, cv=3, scoring=\"accuracy\")\n",
    "print(\"scores\", scores)\n",
    "print(\"Accuracy: %0.2f (+/- %0.2f)\" % (scores.mean(), scores.std() * 2))"
   ]
  },
  {
   "cell_type": "markdown",
   "metadata": {
    "ExecuteTime": {
     "end_time": "2019-02-27T22:01:02.899522Z",
     "start_time": "2019-02-27T22:01:02.883892Z"
    }
   },
   "source": [
    "Alpha=.00005"
   ]
  },
  {
   "cell_type": "code",
   "execution_count": 26,
   "metadata": {
    "ExecuteTime": {
     "end_time": "2019-02-27T23:29:36.788272Z",
     "start_time": "2019-02-27T23:28:28.947977Z"
    }
   },
   "outputs": [
    {
     "data": {
      "text/plain": [
       "0.32016"
      ]
     },
     "execution_count": 26,
     "metadata": {},
     "output_type": "execute_result"
    }
   ],
   "source": [
    "sgd=SGDClassifier(max_iter=500,alpha=.0005, random_state=42)\n",
    "sgd.fit(X_train_red_max,y_train)\n",
    "sgd.score(X_train_red_max,y_train)"
   ]
  },
  {
   "cell_type": "code",
   "execution_count": 27,
   "metadata": {
    "ExecuteTime": {
     "end_time": "2019-02-27T23:32:39.302095Z",
     "start_time": "2019-02-27T23:30:27.288045Z"
    }
   },
   "outputs": [
    {
     "name": "stdout",
     "output_type": "stream",
     "text": [
      "scores [0.29160168 0.29820036 0.31620648]\n",
      "Accuracy: 0.30 (+/- 0.02)\n"
     ]
    }
   ],
   "source": [
    "scores=cross_val_score(sgd, X_train_red_max, y_train, cv=3, scoring=\"accuracy\")\n",
    "print(\"scores\", scores)\n",
    "print(\"Accuracy: %0.2f (+/- %0.2f)\" % (scores.mean(), scores.std() * 2))"
   ]
  },
  {
   "cell_type": "markdown",
   "metadata": {},
   "source": [
    "Alpha=.00007"
   ]
  },
  {
   "cell_type": "code",
   "execution_count": 28,
   "metadata": {
    "ExecuteTime": {
     "end_time": "2019-02-27T23:33:53.056510Z",
     "start_time": "2019-02-27T23:32:47.202471Z"
    }
   },
   "outputs": [
    {
     "data": {
      "text/plain": [
       "0.32662"
      ]
     },
     "execution_count": 28,
     "metadata": {},
     "output_type": "execute_result"
    }
   ],
   "source": [
    "sgd=SGDClassifier(max_iter=500,alpha=.0007, random_state=42)\n",
    "sgd.fit(X_train_red_max,y_train)\n",
    "sgd.score(X_train_red_max,y_train)"
   ]
  },
  {
   "cell_type": "code",
   "execution_count": 29,
   "metadata": {
    "ExecuteTime": {
     "end_time": "2019-02-27T23:36:06.729847Z",
     "start_time": "2019-02-27T23:33:55.197640Z"
    }
   },
   "outputs": [
    {
     "name": "stdout",
     "output_type": "stream",
     "text": [
      "scores [0.26790642 0.25830834 0.27268908]\n",
      "Accuracy: 0.27 (+/- 0.01)\n"
     ]
    }
   ],
   "source": [
    "scores=cross_val_score(sgd, X_train_red_max, y_train, cv=3, scoring=\"accuracy\")\n",
    "print(\"scores\", scores)\n",
    "print(\"Accuracy: %0.2f (+/- %0.2f)\" % (scores.mean(), scores.std() * 2))"
   ]
  },
  {
   "cell_type": "markdown",
   "metadata": {},
   "source": [
    "**Cross Validation with test data**"
   ]
  },
  {
   "cell_type": "code",
   "execution_count": 40,
   "metadata": {
    "ExecuteTime": {
     "end_time": "2019-03-04T15:01:06.576009Z",
     "start_time": "2019-03-04T14:58:36.642748Z"
    }
   },
   "outputs": [
    {
     "data": {
      "text/plain": [
       "0.64382"
      ]
     },
     "execution_count": 40,
     "metadata": {},
     "output_type": "execute_result"
    }
   ],
   "source": [
    "mlp=MLPClassifier(max_iter=500, alpha=.00005 ,random_state=42)\n",
    "mlp.fit(X_train_red_max,y_train)\n",
    "mlp.score(X_train_red_max,y_train)"
   ]
  },
  {
   "cell_type": "code",
   "execution_count": 41,
   "metadata": {
    "ExecuteTime": {
     "end_time": "2019-03-04T15:02:09.849153Z",
     "start_time": "2019-03-04T15:01:13.102753Z"
    }
   },
   "outputs": [
    {
     "name": "stdout",
     "output_type": "stream",
     "text": [
      "scores [0.43502994 0.42582583 0.43393393]\n",
      "Accuracy: 0.43 (+/- 0.01)\n"
     ]
    }
   ],
   "source": [
    "scores=cross_val_score(mlp, X_test_red_max, y_test, cv=3, scoring=\"accuracy\")\n",
    "print(\"scores\", scores)\n",
    "print(\"Accuracy: %0.2f (+/- %0.2f)\" % (scores.mean(), scores.std() * 2))"
   ]
  },
  {
   "cell_type": "code",
   "execution_count": 42,
   "metadata": {
    "ExecuteTime": {
     "end_time": "2019-03-04T15:03:20.644734Z",
     "start_time": "2019-03-04T15:02:21.948057Z"
    }
   },
   "outputs": [],
   "source": [
    "y_test_pred = cross_val_predict(mlp, X_test_red_max, y_test, cv=3)"
   ]
  },
  {
   "cell_type": "code",
   "execution_count": 86,
   "metadata": {
    "ExecuteTime": {
     "end_time": "2019-03-04T15:53:43.875802Z",
     "start_time": "2019-03-04T15:53:43.673104Z"
    },
    "scrolled": false
   },
   "outputs": [
    {
     "name": "stdout",
     "output_type": "stream",
     "text": [
      "[[490  45  88  31  38  24  24  39 160  61]\n",
      " [ 50 522  18  33  19  26  27  36  78 191]\n",
      " [ 83  25 298  86 177  90 103  84  25  29]\n",
      " [ 39  28  78 293  70 205 118  80  30  59]\n",
      " [ 48  15 144  68 390  57 140  80  35  23]\n",
      " [ 29  23  97 181  68 338  78 107  35  44]\n",
      " [ 14  21  93 102 118  62 514  36  23  17]\n",
      " [ 46  27  73  79 108  88  35 470  22  52]\n",
      " [135  66  29  38  29  30  10  22 556  85]\n",
      " [ 51 185  28  50  30  36  21  51 103 445]]\n"
     ]
    },
    {
     "data": {
      "image/png": "[encoded data removed]",
      "text/plain": [
       "<Figure size 432x288 with 1 Axes>"
      ]
     },
     "metadata": {
      "needs_background": "light"
     },
     "output_type": "display_data"
    }
   ],
   "source": [
    "conf_mx=confusion_matrix(y_test, y_test_pred)\n",
    "print(conf_mx)\n",
    "\n",
    "labels =['airplane', 'automobile', 'bird', 'cat', 'deer', 'dog', 'frog', 'horse', 'ship', 'truck']\n",
    "ticks=(np.arange(10))\n",
    "\n",
    "fig=plt.figure()\n",
    "ax=fig.add_subplot(111)\n",
    "cax=ax.matshow(conf_mx)\n",
    "plt.xticks(ticks,labels, rotation=90)\n",
    "\n",
    "plt.yticks(ticks,labels)\n",
    "plt.xlabel('Predicted')\n",
    "plt.ylabel('True')\n",
    "plt.show()\n",
    "\n"
   ]
  },
  {
   "cell_type": "code",
   "execution_count": 87,
   "metadata": {
    "ExecuteTime": {
     "end_time": "2019-03-04T15:59:13.059502Z",
     "start_time": "2019-03-04T15:54:21.310251Z"
    }
   },
   "outputs": [
    {
     "data": {
      "text/plain": [
       "0.6425"
      ]
     },
     "execution_count": 87,
     "metadata": {},
     "output_type": "execute_result"
    }
   ],
   "source": [
    "mlp=MLPClassifier(max_iter=500, alpha=.00007 ,random_state=42)\n",
    "mlp.fit(X_train_red_max,y_train)\n",
    "mlp.score(X_train_red_max,y_train)"
   ]
  },
  {
   "cell_type": "code",
   "execution_count": 88,
   "metadata": {
    "ExecuteTime": {
     "end_time": "2019-03-04T16:01:05.154796Z",
     "start_time": "2019-03-04T15:59:26.102656Z"
    }
   },
   "outputs": [
    {
     "name": "stdout",
     "output_type": "stream",
     "text": [
      "scores [0.43982036 0.42432432 0.43933934]\n",
      "Accuracy: 0.43 (+/- 0.01)\n"
     ]
    }
   ],
   "source": [
    "scores=cross_val_score(mlp, X_test_red_max, y_test, cv=3, scoring=\"accuracy\")\n",
    "print(\"scores\", scores)\n",
    "print(\"Accuracy: %0.2f (+/- %0.2f)\" % (scores.mean(), scores.std() * 2))"
   ]
  },
  {
   "cell_type": "code",
   "execution_count": 89,
   "metadata": {
    "ExecuteTime": {
     "end_time": "2019-03-04T16:03:18.246115Z",
     "start_time": "2019-03-04T16:01:47.805120Z"
    }
   },
   "outputs": [],
   "source": [
    "from sklearn.model_selection import cross_val_predict\n",
    "y_test_pred = cross_val_predict(mlp, X_test_red_max, y_test, cv=3)"
   ]
  },
  {
   "cell_type": "code",
   "execution_count": 90,
   "metadata": {
    "ExecuteTime": {
     "end_time": "2019-03-04T16:03:34.184402Z",
     "start_time": "2019-03-04T16:03:33.993805Z"
    }
   },
   "outputs": [
    {
     "name": "stdout",
     "output_type": "stream",
     "text": [
      "[[497  43  82  31  42  25  22  39 155  64]\n",
      " [ 43 521  22  31  15  26  26  38  77 201]\n",
      " [ 89  18 304  97 171  87  92  89  25  28]\n",
      " [ 38  35  74 302  70 199 117  78  31  56]\n",
      " [ 49  15 142  76 380  69 137  81  33  18]\n",
      " [ 31  23  95 174  67 346  78 108  35  43]\n",
      " [ 16  19  95 102 117  58 515  41  19  18]\n",
      " [ 50  26  68  82 115  88  35 461  20  55]\n",
      " [121  62  30  36  37  27  12  24 566  85]\n",
      " [ 52 188  25  51  29  32  24  53  93 453]]\n"
     ]
    },
    {
     "data": {
      "image/png": "[encoded data removed]",
      "text/plain": [
       "<Figure size 432x288 with 1 Axes>"
      ]
     },
     "metadata": {
      "needs_background": "light"
     },
     "output_type": "display_data"
    }
   ],
   "source": [
    "conf_mx=confusion_matrix( t, y_test_pred)\n",
    "print(conf_mx)\n",
    "\n",
    "labels =['airplane', 'automobile', 'bird', 'cat', 'deer', 'dog', 'frog', 'horse', 'ship', 'truck']\n",
    "ticks=(np.arange(10))\n",
    "\n",
    "fig=plt.figure()\n",
    "ax=fig.add_subplot(111)\n",
    "cax=ax.matshow(conf_mx)\n",
    "plt.xticks(ticks,labels, rotation=90)\n",
    "\n",
    "plt.yticks(ticks,labels)\n",
    "plt.xlabel('Predicted')\n",
    "plt.ylabel('True')\n",
    "plt.show()\n"
   ]
  },
  {
   "cell_type": "code",
   "execution_count": null,
   "metadata": {},
   "outputs": [],
   "source": []
  }
 ],
 "metadata": {
  "hide_input": false,
  "kernelspec": {
   "display_name": "Python 3",
   "language": "python",
   "name": "python3"
  },
  "language_info": {
   "codemirror_mode": {
    "name": "ipython",
    "version": 3
   },
   "file_extension": ".py",
   "mimetype": "text/x-python",
   "name": "python",
   "nbconvert_exporter": "python",
   "pygments_lexer": "ipython3",
   "version": "3.6.8"
  },
  "latex_envs": {
   "LaTeX_envs_menu_present": true,
   "autoclose": false,
   "autocomplete": true,
   "bibliofile": "biblio.bib",
   "cite_by": "apalike",
   "current_citInitial": 1,
   "eqLabelWithNumbers": true,
   "eqNumInitial": 1,
   "hotkeys": {
    "equation": "Ctrl-E",
    "itemize": "Ctrl-I"
   },
   "labels_anchors": false,
   "latex_user_defs": false,
   "report_style_numbering": false,
   "user_envs_cfg": false
  },
  "toc": {
   "base_numbering": 1,
   "nav_menu": {},
   "number_sections": true,
   "sideBar": true,
   "skip_h1_title": false,
   "title_cell": "Table of Contents",
   "title_sidebar": "Contents",
   "toc_cell": false,
   "toc_position": {},
   "toc_section_display": "block",
   "toc_window_display": false
  },
  "varInspector": {
   "cols": {
    "lenName": 16,
    "lenType": 16,
    "lenVar": 40
   },
   "kernels_config": {
    "python": {
     "delete_cmd_postfix": "",
     "delete_cmd_prefix": "del ",
     "library": "var_list.py",
     "varRefreshCmd": "print(var_dic_list())"
    },
    "r": {
     "delete_cmd_postfix": ") ",
     "delete_cmd_prefix": "rm(",
     "library": "var_list.r",
     "varRefreshCmd": "cat(var_dic_list()) "
    }
   },
   "types_to_exclude": [
    "module",
    "function",
    "builtin_function_or_method",
    "instance",
    "_Feature"
   ],
   "window_display": false
  }
 },
 "nbformat": 4,
 "nbformat_minor": 2
}
